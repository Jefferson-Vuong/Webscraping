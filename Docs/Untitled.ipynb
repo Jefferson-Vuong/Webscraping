{
 "cells": [
  {
   "cell_type": "code",
   "execution_count": 3,
   "id": "fd83ddec",
   "metadata": {},
   "outputs": [],
   "source": [
    "import webbrowser, sys\n",
    "\n",
    "if len(sys.argv) > 1:\n",
    "    # Get address from command line.\n",
    "    address = ' '.join(sys.argv[1:])"
   ]
  },
  {
   "cell_type": "code",
   "execution_count": null,
   "id": "dd740e99",
   "metadata": {},
   "outputs": [],
   "source": []
  }
 ],
 "metadata": {
  "kernelspec": {
   "display_name": "Python 3.9.13 ('phys249')",
   "language": "python",
   "name": "python3"
  },
  "language_info": {
   "codemirror_mode": {
    "name": "ipython",
    "version": 3
   },
   "file_extension": ".py",
   "mimetype": "text/x-python",
   "name": "python",
   "nbconvert_exporter": "python",
   "pygments_lexer": "ipython3",
   "version": "3.9.13"
  },
  "vscode": {
   "interpreter": {
    "hash": "2dfd9871e66771c4c5abb3cb14ce105a5c5e72a6a6325b70c30fd6bd502899d2"
   }
  }
 },
 "nbformat": 4,
 "nbformat_minor": 5
}
